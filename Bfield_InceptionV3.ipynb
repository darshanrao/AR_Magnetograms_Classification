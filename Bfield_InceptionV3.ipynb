{
  "cells": [
    {
      "cell_type": "markdown",
      "metadata": {
        "id": "view-in-github",
        "colab_type": "text"
      },
      "source": [
        "<a href=\"https://colab.research.google.com/github/darshanrao/AR_Region_Classification/blob/main/Bfield_InceptionV3.ipynb\" target=\"_parent\"><img src=\"https://colab.research.google.com/assets/colab-badge.svg\" alt=\"Open In Colab\"/></a>"
      ]
    },
    {
      "cell_type": "code",
      "execution_count": null,
      "metadata": {
        "id": "e73428e9"
      },
      "outputs": [],
      "source": [
        "import numpy as np\n",
        "import matplotlib.pyplot as plt\n",
        "import pandas as pd\n",
        "import copy\n",
        "import tensorflow as tf"
      ],
      "id": "e73428e9"
    },
    {
      "cell_type": "code",
      "execution_count": null,
      "metadata": {
        "colab": {
          "background_save": true
        },
        "id": "HkH_7vyD_2F8",
        "outputId": "d32555b7-63ef-4467-cb13-2c271cac8261"
      },
      "outputs": [
        {
          "ename": "MessageError",
          "evalue": "ignored",
          "output_type": "error",
          "traceback": [
            "\u001b[0;31m---------------------------------------------------------------------------\u001b[0m",
            "\u001b[0;31mMessageError\u001b[0m                              Traceback (most recent call last)",
            "\u001b[0;32m<ipython-input-2-d5df0069828e>\u001b[0m in \u001b[0;36m<module>\u001b[0;34m\u001b[0m\n\u001b[1;32m      1\u001b[0m \u001b[0;32mfrom\u001b[0m \u001b[0mgoogle\u001b[0m\u001b[0;34m.\u001b[0m\u001b[0mcolab\u001b[0m \u001b[0;32mimport\u001b[0m \u001b[0mdrive\u001b[0m\u001b[0;34m\u001b[0m\u001b[0;34m\u001b[0m\u001b[0m\n\u001b[0;32m----> 2\u001b[0;31m \u001b[0mdrive\u001b[0m\u001b[0;34m.\u001b[0m\u001b[0mmount\u001b[0m\u001b[0;34m(\u001b[0m\u001b[0;34m'/content/drive'\u001b[0m\u001b[0;34m)\u001b[0m\u001b[0;34m\u001b[0m\u001b[0;34m\u001b[0m\u001b[0m\n\u001b[0m",
            "\u001b[0;32m/usr/local/lib/python3.7/dist-packages/google/colab/drive.py\u001b[0m in \u001b[0;36mmount\u001b[0;34m(mountpoint, force_remount, timeout_ms)\u001b[0m\n\u001b[1;32m    103\u001b[0m       \u001b[0mforce_remount\u001b[0m\u001b[0;34m=\u001b[0m\u001b[0mforce_remount\u001b[0m\u001b[0;34m,\u001b[0m\u001b[0;34m\u001b[0m\u001b[0;34m\u001b[0m\u001b[0m\n\u001b[1;32m    104\u001b[0m       \u001b[0mtimeout_ms\u001b[0m\u001b[0;34m=\u001b[0m\u001b[0mtimeout_ms\u001b[0m\u001b[0;34m,\u001b[0m\u001b[0;34m\u001b[0m\u001b[0;34m\u001b[0m\u001b[0m\n\u001b[0;32m--> 105\u001b[0;31m       ephemeral=True)\n\u001b[0m\u001b[1;32m    106\u001b[0m \u001b[0;34m\u001b[0m\u001b[0m\n\u001b[1;32m    107\u001b[0m \u001b[0;34m\u001b[0m\u001b[0m\n",
            "\u001b[0;32m/usr/local/lib/python3.7/dist-packages/google/colab/drive.py\u001b[0m in \u001b[0;36m_mount\u001b[0;34m(mountpoint, force_remount, timeout_ms, ephemeral)\u001b[0m\n\u001b[1;32m    118\u001b[0m   \u001b[0;32mif\u001b[0m \u001b[0mephemeral\u001b[0m\u001b[0;34m:\u001b[0m\u001b[0;34m\u001b[0m\u001b[0;34m\u001b[0m\u001b[0m\n\u001b[1;32m    119\u001b[0m     _message.blocking_request(\n\u001b[0;32m--> 120\u001b[0;31m         'request_auth', request={'authType': 'dfs_ephemeral'}, timeout_sec=None)\n\u001b[0m\u001b[1;32m    121\u001b[0m \u001b[0;34m\u001b[0m\u001b[0m\n\u001b[1;32m    122\u001b[0m   \u001b[0mmountpoint\u001b[0m \u001b[0;34m=\u001b[0m \u001b[0m_os\u001b[0m\u001b[0;34m.\u001b[0m\u001b[0mpath\u001b[0m\u001b[0;34m.\u001b[0m\u001b[0mexpanduser\u001b[0m\u001b[0;34m(\u001b[0m\u001b[0mmountpoint\u001b[0m\u001b[0;34m)\u001b[0m\u001b[0;34m\u001b[0m\u001b[0;34m\u001b[0m\u001b[0m\n",
            "\u001b[0;32m/usr/local/lib/python3.7/dist-packages/google/colab/_message.py\u001b[0m in \u001b[0;36mblocking_request\u001b[0;34m(request_type, request, timeout_sec, parent)\u001b[0m\n\u001b[1;32m    169\u001b[0m   request_id = send_request(\n\u001b[1;32m    170\u001b[0m       request_type, request, parent=parent, expect_reply=True)\n\u001b[0;32m--> 171\u001b[0;31m   \u001b[0;32mreturn\u001b[0m \u001b[0mread_reply_from_input\u001b[0m\u001b[0;34m(\u001b[0m\u001b[0mrequest_id\u001b[0m\u001b[0;34m,\u001b[0m \u001b[0mtimeout_sec\u001b[0m\u001b[0;34m)\u001b[0m\u001b[0;34m\u001b[0m\u001b[0;34m\u001b[0m\u001b[0m\n\u001b[0m",
            "\u001b[0;32m/usr/local/lib/python3.7/dist-packages/google/colab/_message.py\u001b[0m in \u001b[0;36mread_reply_from_input\u001b[0;34m(message_id, timeout_sec)\u001b[0m\n\u001b[1;32m    100\u001b[0m         reply.get('colab_msg_id') == message_id):\n\u001b[1;32m    101\u001b[0m       \u001b[0;32mif\u001b[0m \u001b[0;34m'error'\u001b[0m \u001b[0;32min\u001b[0m \u001b[0mreply\u001b[0m\u001b[0;34m:\u001b[0m\u001b[0;34m\u001b[0m\u001b[0;34m\u001b[0m\u001b[0m\n\u001b[0;32m--> 102\u001b[0;31m         \u001b[0;32mraise\u001b[0m \u001b[0mMessageError\u001b[0m\u001b[0;34m(\u001b[0m\u001b[0mreply\u001b[0m\u001b[0;34m[\u001b[0m\u001b[0;34m'error'\u001b[0m\u001b[0;34m]\u001b[0m\u001b[0;34m)\u001b[0m\u001b[0;34m\u001b[0m\u001b[0;34m\u001b[0m\u001b[0m\n\u001b[0m\u001b[1;32m    103\u001b[0m       \u001b[0;32mreturn\u001b[0m \u001b[0mreply\u001b[0m\u001b[0;34m.\u001b[0m\u001b[0mget\u001b[0m\u001b[0;34m(\u001b[0m\u001b[0;34m'data'\u001b[0m\u001b[0;34m,\u001b[0m \u001b[0;32mNone\u001b[0m\u001b[0;34m)\u001b[0m\u001b[0;34m\u001b[0m\u001b[0;34m\u001b[0m\u001b[0m\n\u001b[1;32m    104\u001b[0m \u001b[0;34m\u001b[0m\u001b[0m\n",
            "\u001b[0;31mMessageError\u001b[0m: Error: credential propagation was unsuccessful"
          ]
        }
      ],
      "source": [
        "from google.colab import drive\n",
        "drive.mount('/content/drive')"
      ],
      "id": "HkH_7vyD_2F8"
    },
    {
      "cell_type": "markdown",
      "metadata": {
        "id": "0kUpsiT96eci"
      },
      "source": [
        "# Functions"
      ],
      "id": "0kUpsiT96eci"
    },
    {
      "cell_type": "code",
      "execution_count": null,
      "metadata": {
        "colab": {
          "background_save": true
        },
        "id": "Q4xTceK3HErr"
      },
      "outputs": [],
      "source": [
        "def normalized(img):\n",
        "    normalized_input = (img - np.amin(img)) / (np.amax(img) - np.amin(img))\n",
        "    return 2*normalized_input-1"
      ],
      "id": "Q4xTceK3HErr"
    },
    {
      "cell_type": "code",
      "execution_count": null,
      "metadata": {
        "colab": {
          "background_save": true
        },
        "id": "CtD2NO3Xn-XU"
      },
      "outputs": [],
      "source": [
        "def normalizedp(img):\n",
        "    normalized_input = (img - np.amin(img)) / (np.amax(img) - np.amin(img))\n",
        "    return normalized_input"
      ],
      "id": "CtD2NO3Xn-XU"
    },
    {
      "cell_type": "code",
      "execution_count": null,
      "metadata": {
        "colab": {
          "background_save": true
        },
        "id": "Nlwl0Y-FHxVk"
      },
      "outputs": [],
      "source": [
        "def normalizedn(img):\n",
        "    normalized_input = (img - np.amin(img)) / (np.amax(img) - np.amin(img))\n",
        "    return normalized_input-1"
      ],
      "id": "Nlwl0Y-FHxVk"
    },
    {
      "cell_type": "code",
      "execution_count": null,
      "metadata": {
        "colab": {
          "background_save": true
        },
        "id": "6ACY97C142ih"
      },
      "outputs": [],
      "source": [
        "def plotMean(arr,title,cmap='viridis'):\n",
        "  font1 = {'family':'serif','color':'Black','size':15}\n",
        "  arr_mean=np.nanmean(arr,axis=(0))\n",
        "  plt.imshow(arr_mean,vmax=abs(arr_mean).max(), vmin=-abs(arr_mean).max(),cmap=cmap)\n",
        "  plt.colorbar()\n",
        "  plt.xticks([ ])\n",
        "  plt.yticks([ ])\n",
        "  plt.title(title,fontdict = font1)"
      ],
      "id": "6ACY97C142ih"
    },
    {
      "cell_type": "code",
      "execution_count": null,
      "metadata": {
        "colab": {
          "background_save": true
        },
        "id": "sBCqcfC8JWFZ"
      },
      "outputs": [],
      "source": [
        "def createPNList(y_t,y_l,X_t):\n",
        "  fn_list=[]\n",
        "  fp_list=[]\n",
        "  tn_list=[]\n",
        "  tp_list=[]\n",
        "  for i in range(len(y_t)):\n",
        "    if y_t[i]==1 and y_l[i]==0:\n",
        "      fn_list.append(X_t[i])\n",
        "    elif y_t[i]==0 and y_l[i]==1:  \n",
        "      fp_list.append(X_t[i])\n",
        "    elif y_t[i]==1 and y_l[i]==1: \n",
        "      tp_list.append(X_t[i])\n",
        "    elif y_t[i]==0 and y_l[i]==0: \n",
        "      tn_list.append(X_t[i])\n",
        "    \n",
        "  fn_np_array = np.array(fn_list).squeeze()\n",
        "  if len(fn_list)==1:\n",
        "    fn_np_array = np.expand_dims(fn_np_array, axis=0)\n",
        "  fp_np_array = np.array(fp_list).squeeze()\n",
        "  tn_np_array = np.array(tn_list).squeeze()\n",
        "  tp_np_array = np.array(tp_list).squeeze()\n",
        "  return tn_np_array,fp_np_array,fn_np_array,tp_np_array"
      ],
      "id": "sBCqcfC8JWFZ"
    },
    {
      "cell_type": "code",
      "execution_count": null,
      "metadata": {
        "colab": {
          "background_save": true
        },
        "id": "fa8b71de"
      },
      "outputs": [],
      "source": [
        "data = np.load('drive/MyDrive/Bfield Research/Datasets/darshan_rao_bfield.npz')\n",
        "lst = data.files\n",
        "print(lst)\n",
        "for item in lst:\n",
        "    print(item)\n",
        "    print(data[item].shape)\n",
        "    dataset=data[item]"
      ],
      "id": "fa8b71de"
    },
    {
      "cell_type": "code",
      "execution_count": null,
      "metadata": {
        "colab": {
          "background_save": true
        },
        "id": "CJo7-I36xxRJ"
      },
      "outputs": [],
      "source": [
        "dataset = np.nan_to_num(dataset)\n",
        "np.isnan(dataset).any()"
      ],
      "id": "CJo7-I36xxRJ"
    },
    {
      "cell_type": "code",
      "execution_count": null,
      "metadata": {
        "colab": {
          "background_save": true
        },
        "id": "5b955e90"
      },
      "outputs": [],
      "source": [
        "new_list=[]\n",
        "for i in range(51):\n",
        "    for j in range(150):\n",
        "        x=np.random.randint(42,512-42)\n",
        "        y=np.random.randint(42,512-42)\n",
        "        new_list.append(dataset[x-42:x+43, y-42:y+43,i])\n",
        "new_dataset = np.array(new_list)\n",
        "print(new_dataset.shape)\n",
        "#Normalization \n",
        "for i in range(len(new_dataset)):\n",
        "    new_dataset[i]=normalized(new_dataset[i])"
      ],
      "id": "5b955e90"
    },
    {
      "cell_type": "markdown",
      "metadata": {
        "id": "jdW7raqKyJfv"
      },
      "source": [
        "# Synthetics Generation"
      ],
      "id": "jdW7raqKyJfv"
    },
    {
      "cell_type": "code",
      "execution_count": null,
      "metadata": {
        "colab": {
          "background_save": true
        },
        "id": "kuFzVwlqcRxb"
      },
      "outputs": [],
      "source": [
        "shift=5\n",
        "thres1,thres2,thres3=0.3,0.6,0.8\n",
        "posi=[]\n",
        "rn=3\n",
        "for i in range(51):\n",
        "  for j in range(75):\n",
        "    rnx=np.random.randint(-rn,rn)\n",
        "    rny=np.random.randint(-rn,rn)\n",
        "    p=np.zeros((85, 85))\n",
        "    x=np.random.randint(50,512-50)\n",
        "    y=np.random.randint(50,512-50)\n",
        "    img=dataset[x-4:x+4, y-4:y+4,i]\n",
        "    mres3=np.array(list(zip(*np.where(img>thres3))))\n",
        "    for ii in range(len(mres3)):\n",
        "      x=np.random.randint(43-2,43+2)\n",
        "      y=np.random.randint(43-2,43+2)\n",
        "      p[x+rnx,y-shift+rny] = img[mres3[ii,0],mres3[ii,1]]\n",
        "    mres2=np.array(list(zip(*np.where(img>thres2))))\n",
        "    for ii in range(len(mres2)):\n",
        "      x=np.random.randint(43-3,43+3)\n",
        "      y=np.random.randint(43-3,43+3)\n",
        "      p[x+rnx,y-shift+rny] = img[mres2[ii,0],mres3[ii,1]]\n",
        "    mres1=np.array(list(zip(*np.where(img>thres1))))\n",
        "    for ii in range(len(mres1)):\n",
        "      x=np.random.randint(43-4,43+4)\n",
        "      y=np.random.randint(43-4,43+4)\n",
        "      p[x+rnx,y-shift+rny] = img[mres1[ii,0],mres3[ii,1]]\n",
        "        \n",
        "    posi.append(normalizedp(p))  \n",
        "\n",
        "negi=[]\n",
        "for i in range(51):\n",
        "  x0=dataset[:,:,i].copy()\n",
        "  x0=normalized(x0)\n",
        "  x0=np.where(x0<0,x0,0)\n",
        "  for j in range(75):\n",
        "    rnx=np.random.randint(-rn,rn)\n",
        "    rny=np.random.randint(-rn,rn)\n",
        "    n=np.zeros((85, 85))\n",
        "    x=np.random.randint(50,512-50)\n",
        "    y=np.random.randint(50,512-50)\n",
        "    img=dataset[x-5:x+5, y-5:y+5,i]\n",
        "    mres3=np.array(list(zip(*np.where(img<-thres3))))\n",
        "    for ii in range(len(mres3)):\n",
        "      x=np.random.randint(43-2,43+2)\n",
        "      y=np.random.randint(43-2,43+2)\n",
        "      n[x+rnx,y+shift+rny] = img[mres3[ii,0],mres3[ii,1]]\n",
        "    mres2=np.array(list(zip(*np.where(img<-thres2))))\n",
        "    for ii in range(len(mres2)):\n",
        "      x=np.random.randint(43-4,43+4)\n",
        "      y=np.random.randint(43-4,43+4)\n",
        "      n[x+rnx,y+shift+rny] = img[mres2[ii,0],mres3[ii,1]]\n",
        "    mres1=np.array(list(zip(*np.where(img<-thres1))))\n",
        "    for ii in range(len(mres1)):\n",
        "      x=np.random.randint(43-6,43+5)\n",
        "      y=np.random.randint(43-6,43+5)\n",
        "      n[x+rnx,y+shift+rny] = img[mres1[ii,0],mres3[ii,1]]\n",
        "        \n",
        "    negi.append(normalizedn(n)) \n",
        "\n",
        "      \n",
        "    \n",
        "\n",
        "\n",
        "pr=[]\n",
        "for i in range(int(len(new_dataset)/2)):\n",
        "  pr.append(normalized((posi[i]+negi[i])))\n",
        "\n",
        "pure_region = np.array(pr)   \n",
        "pure_region.shape\n",
        "\n",
        "\n",
        "pure_region.shape\n",
        "\n",
        "pure_region = np.nan_to_num(pure_region)\n",
        "np.isnan(pure_region).any()\n",
        "\n"
      ],
      "id": "kuFzVwlqcRxb"
    },
    {
      "cell_type": "code",
      "execution_count": null,
      "metadata": {
        "colab": {
          "background_save": true
        },
        "id": "XZqhUtFuyw3y"
      },
      "outputs": [],
      "source": [
        "plt.imshow(pure_region[4])\n",
        "plt.colorbar()"
      ],
      "id": "XZqhUtFuyw3y"
    },
    {
      "cell_type": "code",
      "execution_count": null,
      "metadata": {
        "colab": {
          "background_save": true
        },
        "id": "Frq7Agi-440M"
      },
      "outputs": [],
      "source": [
        "pure_mean=np.nanmean(pure_region,axis=(0))\n",
        "plt.imshow(pure_mean)\n",
        "plt.colorbar()\n",
        "plt.xticks([ ])\n",
        "plt.yticks([ ])"
      ],
      "id": "Frq7Agi-440M"
    },
    {
      "cell_type": "code",
      "execution_count": null,
      "metadata": {
        "colab": {
          "background_save": true
        },
        "id": "Kl7fI5-9mX5M"
      },
      "outputs": [],
      "source": [
        "# fig, axes = plt.subplots(6,8, figsize = (64,32))\n",
        "# count=0\n",
        "# for i in range(6):\n",
        "#     for j in  range(8):\n",
        "#         axes[i,j].imshow(posi[count])\n",
        "#         count+=1"
      ],
      "id": "Kl7fI5-9mX5M"
    },
    {
      "cell_type": "code",
      "execution_count": null,
      "metadata": {
        "colab": {
          "background_save": true
        },
        "id": "a7yQC_1vy7oH"
      },
      "outputs": [],
      "source": [
        "# pi=[5,7,10,12,19,27,35,38,41,42,44,45,49,50]\n",
        "# b1=[]\n",
        "# for i in range(len(posi)):\n",
        "#   for x in pi:\n",
        "#     if x==i:\n",
        "#       b1.append(posi[i])\n",
        "# len(b1)"
      ],
      "id": "a7yQC_1vy7oH"
    },
    {
      "cell_type": "code",
      "execution_count": null,
      "metadata": {
        "colab": {
          "background_save": true
        },
        "id": "xYyRJ71O3OPR"
      },
      "outputs": [],
      "source": [
        "# fig, axes = plt.subplots(2,7, figsize = (64,16))\n",
        "# count=0\n",
        "# for i in range(2):\n",
        "#     for j in  range(7):\n",
        "#         axes[i,j].imshow(b1[count])\n",
        "#         count+=1"
      ],
      "id": "xYyRJ71O3OPR"
    },
    {
      "cell_type": "code",
      "execution_count": null,
      "metadata": {
        "colab": {
          "background_save": true
        },
        "id": "2BhgHitysoZL"
      },
      "outputs": [],
      "source": [
        "# from tempfile import TemporaryFile\n",
        "# np.savez_compressed(\"synthetics3.npz\",pureregion=pure_region)"
      ],
      "id": "2BhgHitysoZL"
    },
    {
      "cell_type": "code",
      "execution_count": null,
      "metadata": {
        "colab": {
          "background_save": true
        },
        "id": "5hl7kcb-RQhR"
      },
      "outputs": [],
      "source": [
        "# fig, axes = plt.subplots(4,10, figsize = (64,32))\n",
        "# count=0\n",
        "# for i in range(4):\n",
        "#     for j in  range(10):\n",
        "#         axes[i,j].imshow(negi[count])\n",
        "#         count+=1"
      ],
      "id": "5hl7kcb-RQhR"
    },
    {
      "cell_type": "markdown",
      "metadata": {
        "id": "WXo0EK1h26r8"
      },
      "source": [
        "# Synthetics Load"
      ],
      "id": "WXo0EK1h26r8"
    },
    {
      "cell_type": "code",
      "execution_count": null,
      "metadata": {
        "colab": {
          "background_save": true
        },
        "id": "OlIe4lYc05sn"
      },
      "outputs": [],
      "source": [
        "data = np.load('drive/MyDrive/Bfield Research/Synthetics/synthetics3.npz')\n",
        "lst = data.files\n",
        "print(lst)\n",
        "for item in lst:\n",
        "    print(item)\n",
        "    print(data[item].shape)\n",
        "    pure_region=data[item]"
      ],
      "id": "OlIe4lYc05sn"
    },
    {
      "cell_type": "code",
      "execution_count": null,
      "metadata": {
        "colab": {
          "background_save": true
        },
        "id": "VMH_2wfv2M-7"
      },
      "outputs": [],
      "source": [
        "fig, axes = plt.subplots(2,6, figsize = (64,16))\n",
        "count=0\n",
        "for i in range(2):\n",
        "  for j in  range(6):\n",
        "    axes[i,j].imshow(pure_region[count])\n",
        "    count+=1"
      ],
      "id": "VMH_2wfv2M-7"
    },
    {
      "cell_type": "markdown",
      "metadata": {
        "id": "wKRlRvKFbXGh"
      },
      "source": [
        "# SNR"
      ],
      "id": "wKRlRvKFbXGh"
    },
    {
      "cell_type": "code",
      "execution_count": null,
      "metadata": {
        "colab": {
          "background_save": true
        },
        "id": "BeRwAkS61_O5"
      },
      "outputs": [],
      "source": [
        "SNR=10"
      ],
      "id": "BeRwAkS61_O5"
    },
    {
      "cell_type": "code",
      "execution_count": null,
      "metadata": {
        "colab": {
          "background_save": true
        },
        "id": "e5DNVb7vPSKJ"
      },
      "outputs": [],
      "source": [
        "mean=SNR\n",
        "var=1\n",
        "s = np.random.normal(mean, var, size=int(len(new_dataset)/2))\n",
        "print(s)\n",
        "plt.hist(s)"
      ],
      "id": "e5DNVb7vPSKJ"
    },
    {
      "cell_type": "code",
      "execution_count": null,
      "metadata": {
        "colab": {
          "background_save": true
        },
        "id": "37983fd1"
      },
      "outputs": [],
      "source": [
        "exp1=new_dataset[:100].copy()\n",
        "for i in range(len(exp1)):\n",
        "    exp1[i]*=s[i]\n",
        "    # print(exp1[i],s[i])\n",
        "    exp1[i]+=pure_region[i]\n",
        "    exp1[i]=normalized(exp1[i])\n",
        "\n",
        "# fig, axes = plt.subplots(2,6, figsize = (64,16))\n",
        "# count=0\n",
        "# for i in range(2):\n",
        "#     for j in  range(6):\n",
        "#         ax=axes[i,j].imshow(exp1[count])\n",
        "#         # fig.colorbar(ax)\n",
        "#         count+=1"
      ],
      "id": "37983fd1"
    },
    {
      "cell_type": "code",
      "execution_count": null,
      "metadata": {
        "colab": {
          "background_save": true
        },
        "id": "VFiYhcSKu5Mc"
      },
      "outputs": [],
      "source": [
        "exp1.shape"
      ],
      "id": "VFiYhcSKu5Mc"
    },
    {
      "cell_type": "code",
      "execution_count": null,
      "metadata": {
        "colab": {
          "background_save": true
        },
        "id": "63a904be"
      },
      "outputs": [],
      "source": [
        "from sklearn.model_selection import train_test_split\n",
        "X1, X2 = train_test_split(new_dataset, test_size=0.5)\n",
        "X1.shape,X2.shape"
      ],
      "id": "63a904be"
    },
    {
      "cell_type": "code",
      "execution_count": null,
      "metadata": {
        "colab": {
          "background_save": true
        },
        "id": "8347b4f5"
      },
      "outputs": [],
      "source": [
        "for i in range(len(X1)):\n",
        "    X1[i]*=s[i]\n",
        "    X1[i]+=pure_region[i]\n",
        "    X1[i]=normalized(X1[i])"
      ],
      "id": "8347b4f5"
    },
    {
      "cell_type": "code",
      "execution_count": null,
      "metadata": {
        "colab": {
          "background_save": true
        },
        "id": "DfQLDPH5IZMY"
      },
      "outputs": [],
      "source": [
        "plotMean(X2,'X2 Mean')"
      ],
      "id": "DfQLDPH5IZMY"
    },
    {
      "cell_type": "code",
      "execution_count": null,
      "metadata": {
        "colab": {
          "background_save": true
        },
        "id": "dyQesocQI7nI"
      },
      "outputs": [],
      "source": [
        "plotMean(X1,'X1 Mean')"
      ],
      "id": "dyQesocQI7nI"
    },
    {
      "cell_type": "code",
      "execution_count": null,
      "metadata": {
        "colab": {
          "background_save": true
        },
        "id": "bb07b5e1"
      },
      "outputs": [],
      "source": [
        "final_list_X=[]\n",
        "final_list_y=[]\n",
        "\n",
        "for X in X1:\n",
        "    final_list_X.append(X)\n",
        "    final_list_y.append(1)\n",
        "for X in X2:\n",
        "    final_list_X.append(X)\n",
        "    final_list_y.append(0)\n",
        "X = np.array(final_list_X)\n",
        "y = np.array(final_list_y)\n",
        "\n"
      ],
      "id": "bb07b5e1"
    },
    {
      "cell_type": "code",
      "execution_count": null,
      "metadata": {
        "colab": {
          "background_save": true
        },
        "id": "d0f10390"
      },
      "outputs": [],
      "source": [
        "for i in range(len(X)):\n",
        "    X[i]=normalized(X[i])"
      ],
      "id": "d0f10390"
    },
    {
      "cell_type": "code",
      "execution_count": null,
      "metadata": {
        "colab": {
          "background_save": true
        },
        "id": "a21408fb"
      },
      "outputs": [],
      "source": [
        "len(X),len(y)"
      ],
      "id": "a21408fb"
    },
    {
      "cell_type": "code",
      "execution_count": null,
      "metadata": {
        "colab": {
          "background_save": true
        },
        "id": "ff0548f8"
      },
      "outputs": [],
      "source": [
        "def plot_sample(X,y,index):\n",
        "    plt.figure(figsize=(8,8))\n",
        "    plt.imshow(X[index])\n",
        "    plt.title(y[index])\n",
        "    plt.colorbar()\n"
      ],
      "id": "ff0548f8"
    },
    {
      "cell_type": "code",
      "execution_count": null,
      "metadata": {
        "colab": {
          "background_save": true
        },
        "id": "e37f4b25"
      },
      "outputs": [],
      "source": [
        "plot_sample(X,y,6262)\n",
        "plot_sample(X,y,54)"
      ],
      "id": "e37f4b25"
    },
    {
      "cell_type": "code",
      "execution_count": null,
      "metadata": {
        "colab": {
          "background_save": true
        },
        "id": "33e82c77"
      },
      "outputs": [],
      "source": [
        "from sklearn.model_selection import train_test_split\n",
        "X_train,X_test,y_train,y_test=train_test_split(X,y,random_state=0,test_size=0.1)"
      ],
      "id": "33e82c77"
    },
    {
      "cell_type": "code",
      "execution_count": null,
      "metadata": {
        "colab": {
          "background_save": true
        },
        "id": "47fecf5d"
      },
      "outputs": [],
      "source": [
        "X_train = X_train.reshape(X_train.shape[0],85,85,1)\n",
        "X_test = X_test.reshape(X_test.shape[0],85,85,1)\n",
        "X_train.shape"
      ],
      "id": "47fecf5d"
    },
    {
      "cell_type": "code",
      "execution_count": null,
      "metadata": {
        "colab": {
          "background_save": true
        },
        "id": "lt16A4zbc9r4"
      },
      "outputs": [],
      "source": [
        "act_data = np.load('drive/MyDrive/Bfield Research/Datasets/darshan_rao_bfield_AR.npz')\n",
        "lst1 = act_data.files\n",
        "for item in lst1:\n",
        "    print(item)\n",
        "    print(act_data[item].shape)\n",
        "    act_dataset=act_data[item]"
      ],
      "id": "lt16A4zbc9r4"
    },
    {
      "cell_type": "code",
      "execution_count": null,
      "metadata": {
        "colab": {
          "background_save": true
        },
        "id": "xCnkkxMWsysY"
      },
      "outputs": [],
      "source": [
        "new_AR_list=[]\n",
        "x=int(512/2)\n",
        "for i in range(65):\n",
        "  new_AR_list.append(act_dataset[x-42:x+43, x-42:x+43,i])\n",
        "new_AR_dataset = np.array(new_AR_list)\n",
        "y_AR_test=np.array([1]*len(new_AR_dataset))"
      ],
      "id": "xCnkkxMWsysY"
    },
    {
      "cell_type": "markdown",
      "metadata": {
        "id": "FtpW6pAsU_wQ"
      },
      "source": [
        "# MODEL GENERATION"
      ],
      "id": "FtpW6pAsU_wQ"
    },
    {
      "cell_type": "code",
      "execution_count": null,
      "metadata": {
        "colab": {
          "background_save": true
        },
        "id": "wfYcCqv07e5q"
      },
      "outputs": [],
      "source": [
        "from tensorflow.keras.applications.inception_v3 import InceptionV3\n",
        "from tensorflow.keras import datasets, layers, models\n",
        "from keras.layers import Dense, Activation, Flatten"
      ],
      "id": "wfYcCqv07e5q"
    },
    {
      "cell_type": "code",
      "execution_count": null,
      "metadata": {
        "colab": {
          "background_save": true
        },
        "id": "ou4rzL2b7pdZ"
      },
      "outputs": [],
      "source": [
        "inc=InceptionV3(input_shape=(85,85,1),weights=None,include_top=False)"
      ],
      "id": "ou4rzL2b7pdZ"
    },
    {
      "cell_type": "code",
      "execution_count": null,
      "metadata": {
        "colab": {
          "background_save": true
        },
        "id": "AUqesgLq9WPY"
      },
      "outputs": [],
      "source": [
        "for i in inc.layers:\n",
        "  i.trainable=False"
      ],
      "id": "AUqesgLq9WPY"
    },
    {
      "cell_type": "code",
      "execution_count": null,
      "metadata": {
        "colab": {
          "background_save": true
        },
        "id": "z9rN7s5w9ebh"
      },
      "outputs": [],
      "source": [
        "x=Flatten()(inc.output)"
      ],
      "id": "z9rN7s5w9ebh"
    },
    {
      "cell_type": "code",
      "execution_count": null,
      "metadata": {
        "colab": {
          "background_save": true
        },
        "id": "ZsiYdIul9kua"
      },
      "outputs": [],
      "source": [
        "pred=Dense(1, activation='sigmoid')(x)"
      ],
      "id": "ZsiYdIul9kua"
    },
    {
      "cell_type": "code",
      "execution_count": null,
      "metadata": {
        "colab": {
          "background_save": true
        },
        "id": "GwpFoqan93oJ"
      },
      "outputs": [],
      "source": [
        "from keras.models import Model\n",
        "cnn=Model(inputs=inc.input,outputs=pred)"
      ],
      "id": "GwpFoqan93oJ"
    },
    {
      "cell_type": "code",
      "execution_count": null,
      "metadata": {
        "colab": {
          "background_save": true
        },
        "id": "QBkMg9a3-Rf2"
      },
      "outputs": [],
      "source": [
        "cnn.summary()"
      ],
      "id": "QBkMg9a3-Rf2"
    },
    {
      "cell_type": "code",
      "execution_count": null,
      "metadata": {
        "colab": {
          "background_save": true
        },
        "id": "WWVY94C8-p71"
      },
      "outputs": [],
      "source": [
        "Adam = tf.keras.optimizers.Adam(learning_rate=5e-7)\n",
        "cnn.compile(optimizer=Adam,loss='binary_crossentropy', metrics=['accuracy'])"
      ],
      "id": "WWVY94C8-p71"
    },
    {
      "cell_type": "code",
      "execution_count": null,
      "metadata": {
        "colab": {
          "background_save": true
        },
        "id": "dkX-42DB-Wbm"
      },
      "outputs": [],
      "source": [
        "history=cnn.fit(X_train,y_train ,epochs=60,validation_data=(new_AR_dataset,y_AR_test))"
      ],
      "id": "dkX-42DB-Wbm"
    },
    {
      "cell_type": "code",
      "execution_count": null,
      "metadata": {
        "colab": {
          "background_save": true
        },
        "id": "8JeEVM47nuKx"
      },
      "outputs": [],
      "source": [
        "plt.plot(history.history['loss'], label='loss')\n",
        "plt.plot(history.history['val_loss'], label = 'val_loss')\n",
        "plt.xlabel('Epoch')\n",
        "plt.ylabel('Loss')\n",
        "plt.legend(loc='lower right')\n",
        "\n",
        "test_loss, test_acc = cnn.evaluate(X_test,y_test, verbose=2)"
      ],
      "id": "8JeEVM47nuKx"
    },
    {
      "cell_type": "code",
      "execution_count": null,
      "metadata": {
        "colab": {
          "background_save": true
        },
        "id": "WZVZ9HTN5zpn"
      },
      "outputs": [],
      "source": [
        "plt.plot(history.history['accuracy'], label='accuracy')\n",
        "plt.plot(history.history['val_accuracy'], label = 'val_accuracy')\n",
        "plt.xlabel('Epoch')\n",
        "plt.ylabel('Accuracy')\n",
        "plt.ylim([0, 1])\n",
        "plt.legend(loc='lower right')\n",
        "\n",
        "test_loss, test_acc = model.evaluate(X_test,y_test, verbose=2)"
      ],
      "id": "WZVZ9HTN5zpn"
    },
    {
      "cell_type": "markdown",
      "metadata": {
        "id": "oa9cXwQygnuJ"
      },
      "source": [
        "# MODEL LOAD"
      ],
      "id": "oa9cXwQygnuJ"
    },
    {
      "cell_type": "code",
      "execution_count": null,
      "metadata": {
        "colab": {
          "background_save": true
        },
        "id": "X248RseyZa03"
      },
      "outputs": [],
      "source": [
        "from joblib import Parallel, delayed\n",
        "import joblib\n",
        " \n",
        " \n",
        "# Save the model as a pickle in a file\n",
        "# joblib.dump(cnn, 'model_SNR4_26_07.pkl')\n",
        " \n",
        "# Load the model from the file\n",
        "# cnn = joblib.load('drive/MyDrive/Bfield Research/Models/model_SNR4_26_07.pkl')\n"
      ],
      "id": "X248RseyZa03"
    },
    {
      "cell_type": "code",
      "execution_count": null,
      "metadata": {
        "colab": {
          "background_save": true
        },
        "id": "dc30028b"
      },
      "outputs": [],
      "source": [
        "cnn.evaluate(X_test,y_test)"
      ],
      "id": "dc30028b"
    },
    {
      "cell_type": "code",
      "execution_count": null,
      "metadata": {
        "colab": {
          "background_save": true
        },
        "id": "uAJHH1oWaf2-"
      },
      "outputs": [],
      "source": [
        "X_test = X_test.reshape(X_test.shape[0],85,85,1)\n",
        "y_pred= cnn.predict(X_test)"
      ],
      "id": "uAJHH1oWaf2-"
    },
    {
      "cell_type": "code",
      "execution_count": null,
      "metadata": {
        "colab": {
          "background_save": true
        },
        "id": "UJy7aeybobXr"
      },
      "outputs": [],
      "source": [
        "y_pred.shape,y_test.shape\n",
        "y_labels= [int(np.around(element)) for element in y_pred]\n"
      ],
      "id": "UJy7aeybobXr"
    },
    {
      "cell_type": "code",
      "execution_count": null,
      "metadata": {
        "colab": {
          "background_save": true
        },
        "id": "cZOruZBvOYiF"
      },
      "outputs": [],
      "source": [
        "X_test=X_test.squeeze()"
      ],
      "id": "cZOruZBvOYiF"
    },
    {
      "cell_type": "code",
      "execution_count": null,
      "metadata": {
        "colab": {
          "background_save": true
        },
        "id": "lVKuS2Zb3yFX"
      },
      "outputs": [],
      "source": [
        "from sklearn.metrics import confusion_matrix,accuracy_score\n",
        "acc= accuracy_score(y_test, y_labels)\n",
        "cm=confusion_matrix(y_test,y_labels)\n",
        "print(cm)\n",
        "print(acc)"
      ],
      "id": "lVKuS2Zb3yFX"
    },
    {
      "cell_type": "code",
      "execution_count": null,
      "metadata": {
        "colab": {
          "background_save": true
        },
        "id": "D3Lt4XMx35ri"
      },
      "outputs": [],
      "source": [
        "tn, fp, fn, tp=cm.ravel()\n",
        "tn, fp, fn, tp"
      ],
      "id": "D3Lt4XMx35ri"
    },
    {
      "cell_type": "code",
      "execution_count": null,
      "metadata": {
        "colab": {
          "background_save": true
        },
        "id": "lkwdiS9t4P7Z"
      },
      "outputs": [],
      "source": [
        "tss=(tp/(tp+fn)+tn/(tn+fp))-1\n",
        "print(tss)"
      ],
      "id": "lkwdiS9t4P7Z"
    },
    {
      "cell_type": "code",
      "execution_count": null,
      "metadata": {
        "colab": {
          "background_save": true
        },
        "id": "d4KRI1GA_E5I"
      },
      "outputs": [],
      "source": [
        "TN,FP,FN,TP= createPNList(y_test,y_labels,X_test)\n",
        "TN.shape,FP.shape,FN.shape,TP.shape"
      ],
      "id": "d4KRI1GA_E5I"
    },
    {
      "cell_type": "code",
      "execution_count": null,
      "metadata": {
        "colab": {
          "background_save": true
        },
        "id": "5_pfI9_3JQXH"
      },
      "outputs": [],
      "source": [
        "plotMean(TN,'TN_Mean')"
      ],
      "id": "5_pfI9_3JQXH"
    },
    {
      "cell_type": "code",
      "execution_count": null,
      "metadata": {
        "colab": {
          "background_save": true
        },
        "id": "fMDtaO-ULMj-"
      },
      "outputs": [],
      "source": [
        "plotMean(FP,'FP_Mean')"
      ],
      "id": "fMDtaO-ULMj-"
    },
    {
      "cell_type": "code",
      "execution_count": null,
      "metadata": {
        "colab": {
          "background_save": true
        },
        "id": "YrjZU512LNAh"
      },
      "outputs": [],
      "source": [
        "plotMean(FN,'FN_Mean')"
      ],
      "id": "YrjZU512LNAh"
    },
    {
      "cell_type": "code",
      "execution_count": null,
      "metadata": {
        "colab": {
          "background_save": true
        },
        "id": "BSljSk0CLNbC"
      },
      "outputs": [],
      "source": [
        "plotMean(TP,'TP_Mean')"
      ],
      "id": "BSljSk0CLNbC"
    },
    {
      "cell_type": "markdown",
      "metadata": {
        "id": "101_oRddAdXB"
      },
      "source": [
        "# AR DATA"
      ],
      "id": "101_oRddAdXB"
    },
    {
      "cell_type": "code",
      "execution_count": null,
      "metadata": {
        "colab": {
          "background_save": true
        },
        "id": "Umrl03pQt8Fi"
      },
      "outputs": [],
      "source": [
        "new_AR_dataset.shape"
      ],
      "id": "Umrl03pQt8Fi"
    },
    {
      "cell_type": "code",
      "execution_count": null,
      "metadata": {
        "colab": {
          "background_save": true
        },
        "id": "Bt4K2y1b5F-w"
      },
      "outputs": [],
      "source": [
        "for i in range(len(new_AR_dataset)):\n",
        "    new_AR_dataset[i]=normalized(new_AR_dataset[i])"
      ],
      "id": "Bt4K2y1b5F-w"
    },
    {
      "cell_type": "code",
      "execution_count": null,
      "metadata": {
        "colab": {
          "background_save": true
        },
        "id": "1FL2U8BaXtWQ"
      },
      "outputs": [],
      "source": [
        "# fig, axes = plt.subplots(8,8, figsize = (64,64))\n",
        "# count=0\n",
        "# for i in range(8):\n",
        "#     for j in  range(8):\n",
        "#         axes[i,j].imshow(new_AR_dataset[count])\n",
        "#         count+=1"
      ],
      "id": "1FL2U8BaXtWQ"
    },
    {
      "cell_type": "code",
      "execution_count": null,
      "metadata": {
        "colab": {
          "background_save": true
        },
        "id": "76U1meLeuWrQ"
      },
      "outputs": [],
      "source": [
        "new_AR_dataset = new_AR_dataset.reshape(new_AR_dataset.shape[0],85,85,1)\n",
        "y_AR_pred= cnn.predict(new_AR_dataset)\n",
        "y_AR_labels= [int(np.around(element)) for element in y_AR_pred]"
      ],
      "id": "76U1meLeuWrQ"
    },
    {
      "cell_type": "code",
      "execution_count": null,
      "metadata": {
        "colab": {
          "background_save": true
        },
        "id": "iBf2z3NTFWzo"
      },
      "outputs": [],
      "source": [
        "len(y_AR_test) , len(y_AR_labels)"
      ],
      "id": "iBf2z3NTFWzo"
    },
    {
      "cell_type": "code",
      "execution_count": null,
      "metadata": {
        "colab": {
          "background_save": true
        },
        "id": "048pfB-5AX3T"
      },
      "outputs": [],
      "source": [
        "from sklearn.metrics import confusion_matrix,accuracy_score\n",
        "acc1= accuracy_score(y_AR_test, y_AR_labels)\n",
        "cm1=confusion_matrix(y_AR_test, y_AR_labels)\n",
        "print(cm1)\n",
        "print(acc1)"
      ],
      "id": "048pfB-5AX3T"
    },
    {
      "cell_type": "code",
      "execution_count": null,
      "metadata": {
        "colab": {
          "background_save": true
        },
        "id": "PPiomxrzxEMl"
      },
      "outputs": [],
      "source": [
        "TN_AR,FP_AR,FN_AR,TP_AR= createPNList(y_AR_test, y_AR_labels,new_AR_dataset)\n",
        "FN_AR.shape,TP_AR.shape"
      ],
      "id": "PPiomxrzxEMl"
    },
    {
      "cell_type": "code",
      "execution_count": null,
      "metadata": {
        "colab": {
          "background_save": true
        },
        "id": "dIpCi6bwBjMI"
      },
      "outputs": [],
      "source": [
        "plotMean(new_AR_dataset.squeeze(),'AR_Mean')"
      ],
      "id": "dIpCi6bwBjMI"
    },
    {
      "cell_type": "code",
      "execution_count": null,
      "metadata": {
        "colab": {
          "background_save": true
        },
        "id": "-Bva0DfLDpX8"
      },
      "outputs": [],
      "source": [
        "plotMean(TP_AR,'TP_AR_Mean')"
      ],
      "id": "-Bva0DfLDpX8"
    },
    {
      "cell_type": "code",
      "execution_count": null,
      "metadata": {
        "colab": {
          "background_save": true
        },
        "id": "nX8n2PJDDwtk"
      },
      "outputs": [],
      "source": [
        "plotMean(FN_AR,'FN_AR_Mean')"
      ],
      "id": "nX8n2PJDDwtk"
    },
    {
      "cell_type": "code",
      "execution_count": null,
      "metadata": {
        "colab": {
          "background_save": true
        },
        "id": "4o4OFDQb65VM"
      },
      "outputs": [],
      "source": [
        "TP_index=[]\n",
        "FN_index=[]\n",
        "for i in range(len(y_AR_test)):\n",
        "    if y_AR_test[i]==1 and y_AR_labels[i]==1:\n",
        "      TP_index.append(i)\n",
        "    elif y_AR_test[i]==1 and y_AR_labels[i]==0:\n",
        "      FN_index.append(i)\n",
        "len(FN_index),len(TP_index)"
      ],
      "id": "4o4OFDQb65VM"
    },
    {
      "cell_type": "code",
      "execution_count": null,
      "metadata": {
        "colab": {
          "background_save": true
        },
        "id": "4z4WRsh_704k"
      },
      "outputs": [],
      "source": [
        "print(\"TP:\",TP_index)\n",
        "print(\"FN:\",FN_index)"
      ],
      "id": "4z4WRsh_704k"
    },
    {
      "cell_type": "markdown",
      "metadata": {
        "id": "uS-Cm32olK2Y"
      },
      "source": [
        "# AR2 DATA"
      ],
      "id": "uS-Cm32olK2Y"
    },
    {
      "cell_type": "code",
      "execution_count": null,
      "metadata": {
        "colab": {
          "background_save": true
        },
        "id": "NmnfmOIedc5v"
      },
      "outputs": [],
      "source": [
        "act2_data = np.load('drive/MyDrive/Bfield Research/Datasets/darshan_rao_bfield_AR2.npz')\n",
        "lst = act2_data.files\n",
        "for item in lst:\n",
        "    print(item)\n",
        "    print(act2_data[item].shape)\n",
        "    act2_dataset=act2_data[item]\n"
      ],
      "id": "NmnfmOIedc5v"
    },
    {
      "cell_type": "code",
      "execution_count": null,
      "metadata": {
        "colab": {
          "background_save": true
        },
        "id": "4vIdUwfRRelJ"
      },
      "outputs": [],
      "source": [
        "new_AR2_list=[]\n",
        "x=int(512/2)\n",
        "for i in range(57):\n",
        "  new_AR2_list.append(act2_dataset[x-42:x+43, x-42:x+43,i])\n",
        "new_AR2_dataset = np.array(new_AR2_list)\n"
      ],
      "id": "4vIdUwfRRelJ"
    },
    {
      "cell_type": "code",
      "execution_count": null,
      "metadata": {
        "colab": {
          "background_save": true
        },
        "id": "pPbkTMnSRl8Z"
      },
      "outputs": [],
      "source": [
        "for i in range(len(new_AR2_dataset)):\n",
        "     new_AR2_dataset[i]=normalized(new_AR2_dataset[i])"
      ],
      "id": "pPbkTMnSRl8Z"
    },
    {
      "cell_type": "code",
      "execution_count": null,
      "metadata": {
        "colab": {
          "background_save": true
        },
        "id": "gxC5fL7PwvK8"
      },
      "outputs": [],
      "source": [
        "# fig, axes = plt.subplots(5,11, figsize = (64,32))\n",
        "# count=0\n",
        "# for i in range(5):\n",
        "#     for j in  range(11):\n",
        "#         axes[i,j].imshow(new_AR2_dataset[count],vmin=-1,vmax=1)\n",
        "#         count+=1"
      ],
      "id": "gxC5fL7PwvK8"
    },
    {
      "cell_type": "code",
      "execution_count": null,
      "metadata": {
        "colab": {
          "background_save": true
        },
        "id": "4Nn2Zy48R6SW"
      },
      "outputs": [],
      "source": [
        "new_AR2_dataset = new_AR2_dataset.reshape(new_AR2_dataset.shape[0],85,85,1)\n",
        "y_AR2_pred= cnn.predict(new_AR2_dataset)\n",
        "y_AR2_labels= [int(np.around(element)) for element in y_AR2_pred]\n",
        "y_AR2_test=[1]*len(y_AR2_labels)"
      ],
      "id": "4Nn2Zy48R6SW"
    },
    {
      "cell_type": "code",
      "execution_count": null,
      "metadata": {
        "colab": {
          "background_save": true
        },
        "id": "LBmfuW7qSvpH"
      },
      "outputs": [],
      "source": [
        "len(y_AR2_test) , len(y_AR2_labels)"
      ],
      "id": "LBmfuW7qSvpH"
    },
    {
      "cell_type": "code",
      "execution_count": null,
      "metadata": {
        "colab": {
          "background_save": true
        },
        "id": "sv9_rQH3SJF2"
      },
      "outputs": [],
      "source": [
        "from sklearn.metrics import confusion_matrix,accuracy_score\n",
        "acc2= accuracy_score(y_AR2_test, y_AR2_labels)\n",
        "cm2=confusion_matrix(y_AR2_test, y_AR2_labels)\n",
        "print(cm2)\n",
        "print(acc2)"
      ],
      "id": "sv9_rQH3SJF2"
    },
    {
      "cell_type": "code",
      "execution_count": null,
      "metadata": {
        "colab": {
          "background_save": true
        },
        "id": "A03tWd-6TKLW"
      },
      "outputs": [],
      "source": [
        "TN_AR2,FP_AR2,FN_AR2,TP_AR2= createPNList(y_AR2_test, y_AR2_labels,new_AR2_dataset)\n",
        "FN_AR2.shape,TP_AR2.shape"
      ],
      "id": "A03tWd-6TKLW"
    },
    {
      "cell_type": "code",
      "execution_count": null,
      "metadata": {
        "colab": {
          "background_save": true
        },
        "id": "6PxnrUfAEPqr"
      },
      "outputs": [],
      "source": [
        "plotMean(new_AR2_dataset.squeeze(),'AR2_mean')"
      ],
      "id": "6PxnrUfAEPqr"
    },
    {
      "cell_type": "code",
      "execution_count": null,
      "metadata": {
        "colab": {
          "background_save": true
        },
        "id": "0uOGzisyEWdb"
      },
      "outputs": [],
      "source": [
        "plotMean(TP_AR2,'TP_AR2')"
      ],
      "id": "0uOGzisyEWdb"
    },
    {
      "cell_type": "code",
      "execution_count": null,
      "metadata": {
        "colab": {
          "background_save": true
        },
        "id": "yGhG2BJUEqZz"
      },
      "outputs": [],
      "source": [
        "plotMean(FN_AR2,'FN_AR2')"
      ],
      "id": "yGhG2BJUEqZz"
    },
    {
      "cell_type": "code",
      "execution_count": null,
      "metadata": {
        "colab": {
          "background_save": true
        },
        "id": "qyUJmgAbm5H1"
      },
      "outputs": [],
      "source": [
        "TP_AR2_index=[]\n",
        "FN_AR2_index=[]\n",
        "for i in range(len(y_AR2_test)):\n",
        "    if y_AR2_test[i]==1 and y_AR2_labels[i]==1:\n",
        "      TP_AR2_index.append(i)\n",
        "    elif y_AR2_test[i]==1 and y_AR2_labels[i]==0:\n",
        "      FN_AR2_index.append(i)\n",
        "len(FN_AR2_index),len(TP_AR2_index)"
      ],
      "id": "qyUJmgAbm5H1"
    },
    {
      "cell_type": "code",
      "execution_count": null,
      "metadata": {
        "colab": {
          "background_save": true
        },
        "id": "OoC22t-anRHu"
      },
      "outputs": [],
      "source": [
        "print(\"TP_AR2:\",TP_AR2_index)\n",
        "print(\"FN_AR2:\",FN_AR2_index)"
      ],
      "id": "OoC22t-anRHu"
    },
    {
      "cell_type": "markdown",
      "metadata": {
        "id": "zEUAt67l8LSu"
      },
      "source": [
        "# **AR3** DATA"
      ],
      "id": "zEUAt67l8LSu"
    },
    {
      "cell_type": "code",
      "execution_count": null,
      "metadata": {
        "colab": {
          "background_save": true
        },
        "id": "0Dh8vVwC8GcI"
      },
      "outputs": [],
      "source": [
        "act3_data = np.load('drive/MyDrive/Bfield Research/Datasets/darshan_rao_bfield_AR3.npz')\n",
        "lst = act3_data.files\n",
        "for item in lst:\n",
        "    print(item)\n",
        "    print(act3_data[item].shape)\n",
        "    act3_dataset=act3_data[item]"
      ],
      "id": "0Dh8vVwC8GcI"
    },
    {
      "cell_type": "code",
      "execution_count": null,
      "metadata": {
        "colab": {
          "background_save": true
        },
        "id": "SB26pzUb8kz7"
      },
      "outputs": [],
      "source": [
        "new_AR3_list=[]\n",
        "x=int(512/2)\n",
        "for i in range(51):\n",
        "  new_AR3_list.append(act3_dataset[x-42:x+43, x-42:x+43,i])\n",
        "new_AR3_dataset = np.array(new_AR3_list)"
      ],
      "id": "SB26pzUb8kz7"
    },
    {
      "cell_type": "code",
      "execution_count": null,
      "metadata": {
        "colab": {
          "background_save": true
        },
        "id": "t25EpZuX8l-C"
      },
      "outputs": [],
      "source": [
        "for i in range(len(new_AR3_dataset)):\n",
        "     new_AR3_dataset[i]=normalized(new_AR3_dataset[i])"
      ],
      "id": "t25EpZuX8l-C"
    },
    {
      "cell_type": "code",
      "execution_count": null,
      "metadata": {
        "colab": {
          "background_save": true
        },
        "id": "tqucU28y84WR"
      },
      "outputs": [],
      "source": [
        "new_AR3_dataset = new_AR3_dataset.reshape(new_AR3_dataset.shape[0],85,85,1)\n",
        "y_AR3_pred= cnn.predict(new_AR3_dataset)\n",
        "y_AR3_labels= [int(np.around(element)) for element in y_AR3_pred]\n",
        "y_AR3_test=[1]*len(y_AR3_labels)"
      ],
      "id": "tqucU28y84WR"
    },
    {
      "cell_type": "code",
      "execution_count": null,
      "metadata": {
        "colab": {
          "background_save": true
        },
        "id": "L1QeeAMU9H5y"
      },
      "outputs": [],
      "source": [
        "len(y_AR3_test) , len(y_AR3_labels)"
      ],
      "id": "L1QeeAMU9H5y"
    },
    {
      "cell_type": "code",
      "execution_count": null,
      "metadata": {
        "colab": {
          "background_save": true
        },
        "id": "mm3em3h09LNZ"
      },
      "outputs": [],
      "source": [
        "from sklearn.metrics import confusion_matrix,accuracy_score\n",
        "acc3= accuracy_score(y_AR3_test, y_AR3_labels)\n",
        "cm3=confusion_matrix(y_AR3_test, y_AR3_labels)\n",
        "print(cm3)\n",
        "print(acc3)"
      ],
      "id": "mm3em3h09LNZ"
    },
    {
      "cell_type": "code",
      "execution_count": null,
      "metadata": {
        "colab": {
          "background_save": true
        },
        "id": "0ib7S3Zk9RZm"
      },
      "outputs": [],
      "source": [
        "TN_AR3,FP_AR3,FN_AR3,TP_AR3= createPNList(y_AR3_test, y_AR3_labels,new_AR3_dataset)\n",
        "FN_AR3.shape,TP_AR3.shape"
      ],
      "id": "0ib7S3Zk9RZm"
    },
    {
      "cell_type": "code",
      "execution_count": null,
      "metadata": {
        "colab": {
          "background_save": true
        },
        "id": "Plmh6hgCE2Er"
      },
      "outputs": [],
      "source": [
        "plotMean(new_AR3_dataset.squeeze(),'AR3_mean')"
      ],
      "id": "Plmh6hgCE2Er"
    },
    {
      "cell_type": "code",
      "execution_count": null,
      "metadata": {
        "colab": {
          "background_save": true
        },
        "id": "BR8zFll1E8U2"
      },
      "outputs": [],
      "source": [
        "plotMean(TP_AR3,'TP_AR3')"
      ],
      "id": "BR8zFll1E8U2"
    },
    {
      "cell_type": "code",
      "execution_count": null,
      "metadata": {
        "colab": {
          "background_save": true
        },
        "id": "OcZwzbSIE9lx"
      },
      "outputs": [],
      "source": [
        "plotMean(FN_AR3,'FN_AR3')"
      ],
      "id": "OcZwzbSIE9lx"
    },
    {
      "cell_type": "code",
      "execution_count": null,
      "metadata": {
        "colab": {
          "background_save": true
        },
        "id": "SyrHY7Sl9l1R"
      },
      "outputs": [],
      "source": [
        "TP_AR3_index=[]\n",
        "FN_AR3_index=[]\n",
        "for i in range(len(y_AR3_test)):\n",
        "    if y_AR3_test[i]==1 and y_AR3_labels[i]==1:\n",
        "      TP_AR3_index.append(i)\n",
        "    elif y_AR3_test[i]==1 and y_AR3_labels[i]==0:\n",
        "      FN_AR3_index.append(i)\n",
        "len(FN_AR3_index),len(TP_AR3_index)"
      ],
      "id": "SyrHY7Sl9l1R"
    },
    {
      "cell_type": "code",
      "execution_count": null,
      "metadata": {
        "colab": {
          "background_save": true
        },
        "id": "nTbr-kwj-WGT"
      },
      "outputs": [],
      "source": [
        "print(\"TP_AR3:\",TP_AR3_index)\n",
        "print(\"FN_AR3:\",FN_AR3_index)"
      ],
      "id": "nTbr-kwj-WGT"
    },
    {
      "cell_type": "markdown",
      "metadata": {
        "id": "AMF6DcEZ-gyx"
      },
      "source": [
        "# AR4 DATA"
      ],
      "id": "AMF6DcEZ-gyx"
    },
    {
      "cell_type": "code",
      "execution_count": null,
      "metadata": {
        "colab": {
          "background_save": true
        },
        "id": "Ec6mZ0FZ-gTH"
      },
      "outputs": [],
      "source": [
        "act4_data = np.load('drive/MyDrive/Bfield Research/Datasets/darshan_rao_bfield_AR4.npz')\n",
        "lst = act4_data.files\n",
        "for item in lst:\n",
        "    print(item)\n",
        "    print(act4_data[item].shape)\n",
        "    act4_dataset=act4_data[item]"
      ],
      "id": "Ec6mZ0FZ-gTH"
    },
    {
      "cell_type": "code",
      "execution_count": null,
      "metadata": {
        "colab": {
          "background_save": true
        },
        "id": "pJY7hxspAlus"
      },
      "outputs": [],
      "source": [
        "new_AR4_list=[]\n",
        "x=int(512/2)\n",
        "for i in range(47):\n",
        "  new_AR4_list.append(act4_dataset[x-42:x+43, x-42:x+43,i])\n",
        "new_AR4_dataset = np.array(new_AR4_list)"
      ],
      "id": "pJY7hxspAlus"
    },
    {
      "cell_type": "code",
      "execution_count": null,
      "metadata": {
        "colab": {
          "background_save": true
        },
        "id": "aOGGwaDtBLAQ"
      },
      "outputs": [],
      "source": [
        "for i in range(len(new_AR4_dataset)):\n",
        "     new_AR4_dataset[i]=normalized(new_AR4_dataset[i])"
      ],
      "id": "aOGGwaDtBLAQ"
    },
    {
      "cell_type": "code",
      "execution_count": null,
      "metadata": {
        "colab": {
          "background_save": true
        },
        "id": "MZTHAiLHBUa6"
      },
      "outputs": [],
      "source": [
        "new_AR4_dataset = new_AR4_dataset.reshape(new_AR4_dataset.shape[0],85,85,1)\n",
        "y_AR4_pred= cnn.predict(new_AR4_dataset)\n",
        "y_AR4_labels= [int(np.around(element)) for element in y_AR4_pred]\n",
        "y_AR4_test=[1]*len(y_AR4_labels)"
      ],
      "id": "MZTHAiLHBUa6"
    },
    {
      "cell_type": "code",
      "execution_count": null,
      "metadata": {
        "colab": {
          "background_save": true
        },
        "id": "NwCx6SBcBlqi"
      },
      "outputs": [],
      "source": [
        "len(y_AR4_test) , len(y_AR4_labels)"
      ],
      "id": "NwCx6SBcBlqi"
    },
    {
      "cell_type": "code",
      "execution_count": null,
      "metadata": {
        "colab": {
          "background_save": true
        },
        "id": "f-zuf7LFBtHb"
      },
      "outputs": [],
      "source": [
        "acc4= accuracy_score(y_AR4_test, y_AR4_labels)\n",
        "cm4=confusion_matrix(y_AR4_test, y_AR4_labels)\n",
        "print(cm4)\n",
        "print(acc4)"
      ],
      "id": "f-zuf7LFBtHb"
    },
    {
      "cell_type": "code",
      "execution_count": null,
      "metadata": {
        "colab": {
          "background_save": true
        },
        "id": "UkIJ6nOrB3J6"
      },
      "outputs": [],
      "source": [
        "TN_AR4,FP_AR4,FN_AR4,TP_AR4= createPNList(y_AR4_test, y_AR4_labels,new_AR4_dataset)\n",
        "FN_AR4.shape,TP_AR4.shape"
      ],
      "id": "UkIJ6nOrB3J6"
    },
    {
      "cell_type": "code",
      "execution_count": null,
      "metadata": {
        "colab": {
          "background_save": true
        },
        "id": "DRcJe9HhFWbA"
      },
      "outputs": [],
      "source": [
        "plotMean(new_AR4_dataset.squeeze(),'AR4_mean')"
      ],
      "id": "DRcJe9HhFWbA"
    },
    {
      "cell_type": "code",
      "execution_count": null,
      "metadata": {
        "colab": {
          "background_save": true
        },
        "id": "Jy6cNjKvFaQK"
      },
      "outputs": [],
      "source": [
        "plotMean(TP_AR4,'TP_AR4')"
      ],
      "id": "Jy6cNjKvFaQK"
    },
    {
      "cell_type": "code",
      "execution_count": null,
      "metadata": {
        "colab": {
          "background_save": true
        },
        "id": "jhZ6qzTuFglO"
      },
      "outputs": [],
      "source": [
        "plotMean(FN_AR4,'FN_AR4')"
      ],
      "id": "jhZ6qzTuFglO"
    },
    {
      "cell_type": "code",
      "execution_count": null,
      "metadata": {
        "colab": {
          "background_save": true
        },
        "id": "KYm7WAlgCTkU"
      },
      "outputs": [],
      "source": [
        "TP_AR4_index=[]\n",
        "FN_AR4_index=[]\n",
        "for i in range(len(y_AR4_test)):\n",
        "    if y_AR4_test[i]==1 and y_AR4_labels[i]==1:\n",
        "      TP_AR4_index.append(i)\n",
        "    elif y_AR4_test[i]==1 and y_AR4_labels[i]==0:\n",
        "      FN_AR4_index.append(i)\n",
        "len(FN_AR4_index),len(TP_AR4_index)"
      ],
      "id": "KYm7WAlgCTkU"
    },
    {
      "cell_type": "code",
      "execution_count": null,
      "metadata": {
        "colab": {
          "background_save": true
        },
        "id": "OEsp6M-UCVSB"
      },
      "outputs": [],
      "source": [
        "print(\"TP_AR4:\",TP_AR4_index)\n",
        "print(\"FN_AR4:\",FN_AR4_index)"
      ],
      "id": "OEsp6M-UCVSB"
    },
    {
      "cell_type": "markdown",
      "metadata": {
        "id": "2vY7FxhnKi6L"
      },
      "source": [
        "# AR5 DATA"
      ],
      "id": "2vY7FxhnKi6L"
    },
    {
      "cell_type": "code",
      "execution_count": null,
      "metadata": {
        "colab": {
          "background_save": true
        },
        "id": "y97obl3RJ-3Y"
      },
      "outputs": [],
      "source": [
        "act5_data = np.load('drive/MyDrive/Bfield Research/Datasets/darshan_rao_bfield_AR5.npz')\n",
        "lst = act5_data.files\n",
        "for item in lst:\n",
        "    print(item)\n",
        "    print(act5_data[item].shape)\n",
        "    act5_dataset=act5_data[item]"
      ],
      "id": "y97obl3RJ-3Y"
    },
    {
      "cell_type": "code",
      "execution_count": null,
      "metadata": {
        "colab": {
          "background_save": true
        },
        "id": "556Df2mqKoei"
      },
      "outputs": [],
      "source": [
        "new_AR5_list=[]\n",
        "x=int(512/2)\n",
        "for i in range(108):\n",
        "  new_AR5_list.append(act5_dataset[i,:,:])\n",
        "new_AR5_dataset = np.array(new_AR5_list)"
      ],
      "id": "556Df2mqKoei"
    },
    {
      "cell_type": "code",
      "execution_count": null,
      "metadata": {
        "colab": {
          "background_save": true
        },
        "id": "w8SN-ZyjKvDc"
      },
      "outputs": [],
      "source": [
        "unnorm_new_AR5_dataset=new_AR5_dataset.copy()\n",
        "for i in range(len(new_AR5_dataset)):\n",
        "     new_AR5_dataset[i]=normalized(new_AR5_dataset[i])"
      ],
      "id": "w8SN-ZyjKvDc"
    },
    {
      "cell_type": "code",
      "execution_count": null,
      "metadata": {
        "colab": {
          "background_save": true
        },
        "id": "-LYE3Yw4Kvgi"
      },
      "outputs": [],
      "source": [
        "new_AR5_dataset = new_AR5_dataset.reshape(new_AR5_dataset.shape[0],85,85,1)\n",
        "y_AR5_pred= cnn.predict(new_AR5_dataset)\n",
        "y_AR5_labels= [int(np.around(element)) for element in y_AR5_pred]\n",
        "y_AR5_test=[1]*len(y_AR5_labels)"
      ],
      "id": "-LYE3Yw4Kvgi"
    },
    {
      "cell_type": "code",
      "execution_count": null,
      "metadata": {
        "colab": {
          "background_save": true
        },
        "id": "f2_V26IZKxe-"
      },
      "outputs": [],
      "source": [
        "len(y_AR5_test) , len(y_AR5_labels)"
      ],
      "id": "f2_V26IZKxe-"
    },
    {
      "cell_type": "code",
      "execution_count": null,
      "metadata": {
        "colab": {
          "background_save": true
        },
        "id": "kpBtPUwtK0p-"
      },
      "outputs": [],
      "source": [
        "from sklearn.metrics import confusion_matrix,accuracy_score\n",
        "acc5= accuracy_score(y_AR5_test, y_AR5_labels)\n",
        "cm5=confusion_matrix(y_AR5_test, y_AR5_labels)\n",
        "print('Confusion Matrix:')\n",
        "print(cm5)\n",
        "print('Accuracy:')\n",
        "print(acc5)"
      ],
      "id": "kpBtPUwtK0p-"
    },
    {
      "cell_type": "code",
      "execution_count": null,
      "metadata": {
        "colab": {
          "background_save": true
        },
        "id": "nM4i9j_lK0-z"
      },
      "outputs": [],
      "source": [
        "TN_AR5,FP_AR5,FN_AR5,TP_AR5= createPNList(y_AR5_test, y_AR5_labels,new_AR5_dataset)\n",
        "FN_AR5.shape,TP_AR5.shape"
      ],
      "id": "nM4i9j_lK0-z"
    },
    {
      "cell_type": "code",
      "execution_count": null,
      "metadata": {
        "colab": {
          "background_save": true
        },
        "id": "L85c9l2iOPqR"
      },
      "outputs": [],
      "source": [
        "TP_AR5_index=[]\n",
        "FN_AR5_index=[]\n",
        "for i in range(len(y_AR5_test)):\n",
        "    if y_AR5_test[i]==1 and y_AR5_labels[i]==1:\n",
        "      TP_AR5_index.append(i)\n",
        "    elif y_AR5_test[i]==1 and y_AR5_labels[i]==0:\n",
        "      FN_AR5_index.append(i)\n",
        "len(FN_AR5_index),len(TP_AR5_index)"
      ],
      "id": "L85c9l2iOPqR"
    },
    {
      "cell_type": "code",
      "execution_count": null,
      "metadata": {
        "colab": {
          "background_save": true
        },
        "id": "VzDrooQ6ORjK"
      },
      "outputs": [],
      "source": [
        "print(\"TP_AR5:\",TP_AR5_index)\n",
        "print(\"FN_AR5:\",FN_AR5_index)"
      ],
      "id": "VzDrooQ6ORjK"
    },
    {
      "cell_type": "code",
      "execution_count": null,
      "metadata": {
        "colab": {
          "background_save": true
        },
        "id": "lrcUpPYN3UmW"
      },
      "outputs": [],
      "source": [
        "plotMean(unnorm_new_AR5_dataset.squeeze(),'AR5 Mean')"
      ],
      "id": "lrcUpPYN3UmW"
    },
    {
      "cell_type": "code",
      "execution_count": null,
      "metadata": {
        "colab": {
          "background_save": true
        },
        "id": "xM4FhoI0GA4r"
      },
      "outputs": [],
      "source": [
        "plotMean(unnorm_new_AR5_dataset[TP_AR5_index],'TP AR5')"
      ],
      "id": "xM4FhoI0GA4r"
    },
    {
      "cell_type": "code",
      "execution_count": null,
      "metadata": {
        "colab": {
          "background_save": true
        },
        "id": "fRVCc3NSGKfo"
      },
      "outputs": [],
      "source": [
        "plotMean(unnorm_new_AR5_dataset[FN_AR5_index],'FN AR5')"
      ],
      "id": "fRVCc3NSGKfo"
    },
    {
      "cell_type": "code",
      "execution_count": null,
      "metadata": {
        "colab": {
          "background_save": true
        },
        "id": "bIhZEsR_Xkc3"
      },
      "outputs": [],
      "source": [
        "# fig, axes = plt.subplots(11,10, figsize = (64,128))\n",
        "# count=0\n",
        "# for i in range(11):\n",
        "#     for j in  range(10):\n",
        "#         axes[i,j].imshow(new_AR5_dataset[count].squeeze(),vmin=-1,vmax=1)\n",
        "#         count+=1"
      ],
      "id": "bIhZEsR_Xkc3"
    },
    {
      "cell_type": "code",
      "execution_count": null,
      "metadata": {
        "colab": {
          "background_save": true
        },
        "id": "P272wZ-odfYq"
      },
      "outputs": [],
      "source": [
        "hp=[0,1,2,4,5,10,12,13,16,18,19,20,27,28,29,42,46,51,53,56,60,62,63,69,70,71,83,86]\n",
        "handpicked=unnorm_new_AR5_dataset[hp].squeeze()\n",
        "nhp=[]\n",
        "tppminushp_index=[]\n",
        "totalminushp=[]\n",
        "\n",
        "for z in range(108):\n",
        "  if z not in hp:\n",
        "    nhp.append(z)\n",
        "nonhandpicked=unnorm_new_AR5_dataset[nhp].squeeze()\n",
        "\n",
        "for x in TP_AR5_index:\n",
        "  if x not in hp:\n",
        "    tppminushp_index.append(x)\n",
        "print(tppminushp_index)\n",
        "tppminushp=unnorm_new_AR5_dataset[tppminushp_index].squeeze()\n"
      ],
      "id": "P272wZ-odfYq"
    },
    {
      "cell_type": "code",
      "execution_count": null,
      "metadata": {
        "colab": {
          "background_save": true
        },
        "id": "ayskHEB20qCx"
      },
      "outputs": [],
      "source": [
        "def common(lst1, lst2): \n",
        "    return list(set(lst1) & set(lst2))\n"
      ],
      "id": "ayskHEB20qCx"
    },
    {
      "cell_type": "code",
      "execution_count": null,
      "metadata": {
        "colab": {
          "background_save": true
        },
        "id": "ZmDIWcTy22gy"
      },
      "outputs": [],
      "source": [
        "\n",
        "print(common(TP_AR5_index,hp))\n",
        "print(hp)\n",
        "len(common(TP_AR5_index,hp)),len(hp)"
      ],
      "id": "ZmDIWcTy22gy"
    },
    {
      "cell_type": "code",
      "execution_count": null,
      "metadata": {
        "colab": {
          "background_save": true
        },
        "id": "HO9WwXE5nG_1"
      },
      "outputs": [],
      "source": [
        "len(handpicked),len(nonhandpicked),len(tppminushp)"
      ],
      "id": "HO9WwXE5nG_1"
    },
    {
      "cell_type": "code",
      "execution_count": null,
      "metadata": {
        "colab": {
          "background_save": true
        },
        "id": "_lHC4ucqaG8l"
      },
      "outputs": [],
      "source": [
        "# fig, axes = plt.subplots(6,5, figsize = (64,128))\n",
        "# count=0\n",
        "# for i in range(6):\n",
        "#     for j in  range(5):\n",
        "#         axes[i,j].imshow(handpicked[count],cmap='binary')\n",
        "#         count+=1"
      ],
      "id": "_lHC4ucqaG8l"
    },
    {
      "cell_type": "code",
      "execution_count": null,
      "metadata": {
        "colab": {
          "background_save": true
        },
        "id": "XBljhog3G4Cr"
      },
      "outputs": [],
      "source": [
        "plotMean(handpicked,'HP Mean')"
      ],
      "id": "XBljhog3G4Cr"
    },
    {
      "cell_type": "code",
      "execution_count": null,
      "metadata": {
        "colab": {
          "background_save": true
        },
        "id": "9JN4DUveG_zU"
      },
      "outputs": [],
      "source": [
        "plotMean(nonhandpicked,'Total-HP Mean')"
      ],
      "id": "9JN4DUveG_zU"
    },
    {
      "cell_type": "code",
      "execution_count": null,
      "metadata": {
        "colab": {
          "background_save": true
        },
        "id": "J5QtzFC_HXo3"
      },
      "outputs": [],
      "source": [
        "plotMean(tppminushp,'TP-Handpicked')"
      ],
      "id": "J5QtzFC_HXo3"
    },
    {
      "cell_type": "code",
      "execution_count": null,
      "metadata": {
        "colab": {
          "background_save": true
        },
        "id": "g70gHC4bbyRg"
      },
      "outputs": [],
      "source": [
        "# fnplot=unnorm_new_AR5_dataset[FN_AR5_index].squeeze()\n",
        "# fig, axes = plt.subplots(9,5, figsize = (32,64))\n",
        "# count=0\n",
        "# for i in range(9):\n",
        "#     for j in  range(5):\n",
        "#         axes[i,j].imshow(fnplot[count],cmap='binary')\n",
        "#         count+=1"
      ],
      "id": "g70gHC4bbyRg"
    },
    {
      "cell_type": "code",
      "execution_count": null,
      "metadata": {
        "colab": {
          "background_save": true
        },
        "id": "bsFWoa9USKVV"
      },
      "outputs": [],
      "source": [
        "# tpplot=unnorm_new_AR5_dataset[TP_AR5_index].squeeze()\n",
        "# fig, axes = plt.subplots(7,10, figsize = (64,64))\n",
        "# count=0\n",
        "# for i in range(7):\n",
        "#     for j in  range(10):\n",
        "#         axes[i,j].imshow(tpplot[count],cmap='binary')\n",
        "#         count+=1"
      ],
      "id": "bsFWoa9USKVV"
    },
    {
      "cell_type": "markdown",
      "metadata": {
        "id": "GCEmjRpoQsVJ"
      },
      "source": [
        "# AR6 DATA"
      ],
      "id": "GCEmjRpoQsVJ"
    },
    {
      "cell_type": "code",
      "execution_count": null,
      "metadata": {
        "colab": {
          "background_save": true
        },
        "id": "IEssS1O4Qr5u"
      },
      "outputs": [],
      "source": [
        "act6_data = np.load('drive/MyDrive/Bfield Research/Datasets/darshan_rao_bfield_AR6.npz')\n",
        "lst = act6_data.files\n",
        "for item in lst:\n",
        "    print(item)\n",
        "    print(act6_data[item].shape)\n",
        "    act6_dataset=act6_data[item]"
      ],
      "id": "IEssS1O4Qr5u"
    },
    {
      "cell_type": "code",
      "execution_count": null,
      "metadata": {
        "colab": {
          "background_save": true
        },
        "id": "IZ6j2pqQRIOu"
      },
      "outputs": [],
      "source": [
        "new_AR6_list=[]\n",
        "x=int(512/2)\n",
        "for i in range(53):\n",
        "  new_AR6_list.append(act6_dataset[x-42:x+43, x-42:x+43,i])\n",
        "new_AR6_dataset = np.array(new_AR6_list)"
      ],
      "id": "IZ6j2pqQRIOu"
    },
    {
      "cell_type": "code",
      "execution_count": null,
      "metadata": {
        "colab": {
          "background_save": true
        },
        "id": "BILiX-dvRKRt"
      },
      "outputs": [],
      "source": [
        "for i in range(len(new_AR6_dataset)):\n",
        "     new_AR6_dataset[i]=normalized(new_AR6_dataset[i])"
      ],
      "id": "BILiX-dvRKRt"
    },
    {
      "cell_type": "code",
      "execution_count": null,
      "metadata": {
        "colab": {
          "background_save": true
        },
        "id": "AM7wynnhRMJi"
      },
      "outputs": [],
      "source": [
        "new_AR6_dataset = new_AR6_dataset.reshape(new_AR6_dataset.shape[0],85,85,1)\n",
        "y_AR6_pred= cnn.predict(new_AR6_dataset)\n",
        "y_AR6_labels= [int(np.around(element)) for element in y_AR6_pred]\n",
        "y_AR6_test=[1]*len(y_AR6_labels)"
      ],
      "id": "AM7wynnhRMJi"
    },
    {
      "cell_type": "code",
      "execution_count": null,
      "metadata": {
        "colab": {
          "background_save": true
        },
        "id": "OyocxBFwRNtM"
      },
      "outputs": [],
      "source": [
        "len(y_AR6_test) , len(y_AR6_labels)"
      ],
      "id": "OyocxBFwRNtM"
    },
    {
      "cell_type": "code",
      "execution_count": null,
      "metadata": {
        "colab": {
          "background_save": true
        },
        "id": "m0PT_lCzRPTy"
      },
      "outputs": [],
      "source": [
        "acc6= accuracy_score(y_AR6_test, y_AR6_labels)\n",
        "cm6=confusion_matrix(y_AR6_test, y_AR6_labels)\n",
        "print(cm6)\n",
        "print(acc6)"
      ],
      "id": "m0PT_lCzRPTy"
    },
    {
      "cell_type": "code",
      "execution_count": null,
      "metadata": {
        "colab": {
          "background_save": true
        },
        "id": "Fuka0bbgRRF4"
      },
      "outputs": [],
      "source": [
        "TN_AR6,FP_AR6,FN_AR6,TP_AR6= createPNList(y_AR6_test, y_AR6_labels,new_AR6_dataset)\n",
        "FN_AR6.shape,TP_AR6.shape"
      ],
      "id": "Fuka0bbgRRF4"
    },
    {
      "cell_type": "code",
      "execution_count": null,
      "metadata": {
        "colab": {
          "background_save": true
        },
        "id": "qgJDG6dSGfZy"
      },
      "outputs": [],
      "source": [
        "plotMean(new_AR6_dataset.squeeze(),'AR6_mean')"
      ],
      "id": "qgJDG6dSGfZy"
    },
    {
      "cell_type": "code",
      "execution_count": null,
      "metadata": {
        "colab": {
          "background_save": true
        },
        "id": "Vfompz9dGneB"
      },
      "outputs": [],
      "source": [
        "plotMean(TP_AR6,'TP_AR6')"
      ],
      "id": "Vfompz9dGneB"
    },
    {
      "cell_type": "code",
      "execution_count": null,
      "metadata": {
        "colab": {
          "background_save": true
        },
        "id": "msfftXhtGs53"
      },
      "outputs": [],
      "source": [
        "plotMean(FN_AR6,'FN_AR6')"
      ],
      "id": "msfftXhtGs53"
    },
    {
      "cell_type": "code",
      "execution_count": null,
      "metadata": {
        "colab": {
          "background_save": true
        },
        "id": "-03fB3TzRZsw"
      },
      "outputs": [],
      "source": [
        "TP_AR6_index=[]\n",
        "FN_AR6_index=[]\n",
        "for i in range(len(y_AR6_test)):\n",
        "    if y_AR6_test[i]==1 and y_AR5_labels[i]==1:\n",
        "      TP_AR6_index.append(i)\n",
        "    elif y_AR6_test[i]==1 and y_AR6_labels[i]==0:\n",
        "      FN_AR6_index.append(i)\n",
        "len(FN_AR6_index),len(TP_AR6_index)"
      ],
      "id": "-03fB3TzRZsw"
    },
    {
      "cell_type": "code",
      "execution_count": null,
      "metadata": {
        "colab": {
          "background_save": true
        },
        "id": "fkL7d6q3RbPy"
      },
      "outputs": [],
      "source": [
        "print(\"TP_AR6:\",TP_AR6_index)\n",
        "print(\"FN_AR6:\",FN_AR6_index)"
      ],
      "id": "fkL7d6q3RbPy"
    },
    {
      "cell_type": "markdown",
      "metadata": {
        "id": "am3YwofahbcZ"
      },
      "source": [
        "# **FLOW_DATA**"
      ],
      "id": "am3YwofahbcZ"
    },
    {
      "cell_type": "code",
      "execution_count": null,
      "metadata": {
        "colab": {
          "background_save": true
        },
        "id": "55Y7N6othbGd"
      },
      "outputs": [],
      "source": [
        "flow_data = np.load('drive/MyDrive/Bfield Research/Datasets/tpi_fni_newdata.npz')\n",
        "lst = flow_data.files\n",
        "print(flow_data['tpi'].shape)\n",
        "tni=flow_data['tpi']\n",
        "print(flow_data['fni'].shape)\n",
        "fni=flow_data['fni']"
      ],
      "id": "55Y7N6othbGd"
    },
    {
      "cell_type": "code",
      "execution_count": null,
      "metadata": {
        "colab": {
          "background_save": true
        },
        "id": "vZbUpOa3gLhR"
      },
      "outputs": [],
      "source": [
        "tni.shape,fni.shape"
      ],
      "id": "vZbUpOa3gLhR"
    },
    {
      "cell_type": "code",
      "execution_count": null,
      "metadata": {
        "colab": {
          "background_save": true
        },
        "id": "P_mwgMN0p8pw"
      },
      "outputs": [],
      "source": [
        "tni"
      ],
      "id": "P_mwgMN0p8pw"
    },
    {
      "cell_type": "code",
      "execution_count": null,
      "metadata": {
        "colab": {
          "background_save": true
        },
        "id": "HMD2McL4qGn-"
      },
      "outputs": [],
      "source": [
        "fni"
      ],
      "id": "HMD2McL4qGn-"
    },
    {
      "cell_type": "code",
      "execution_count": null,
      "metadata": {
        "colab": {
          "background_save": true
        },
        "id": "KrrhiPbHrFuw"
      },
      "outputs": [],
      "source": [
        "mag_ar_data = np.load('drive/MyDrive/Bfield Research/Datasets/mag_ar_list.npz')\n",
        "lst = mag_ar_data.files\n",
        "for item in lst:\n",
        "    print(item)\n",
        "    print(mag_ar_data[item].shape)\n",
        "    mag_ar_dataset=mag_ar_data[item]"
      ],
      "id": "KrrhiPbHrFuw"
    },
    {
      "cell_type": "code",
      "execution_count": null,
      "metadata": {
        "colab": {
          "background_save": true
        },
        "id": "kGKJeyjor14f"
      },
      "outputs": [],
      "source": [
        "mag_ar_dataset"
      ],
      "id": "kGKJeyjor14f"
    },
    {
      "cell_type": "code",
      "execution_count": null,
      "metadata": {
        "colab": {
          "background_save": true
        },
        "id": "CGcxf1c-sY46"
      },
      "outputs": [],
      "source": [
        "mag_TP_list=[]\n",
        "mag_FN_list=[]\n",
        "for i in range(len(mag_ar_dataset)):\n",
        "  for j in range(len(tni)):\n",
        "    if mag_ar_dataset[i]==tni[j]:\n",
        "      mag_TP_list.append(i)\n",
        "  for j in range(len(fni)):\n",
        "    if mag_ar_dataset[i]==fni[j]:\n",
        "      mag_FN_list.append(i)\n",
        "\n",
        "\n"
      ],
      "id": "CGcxf1c-sY46"
    },
    {
      "cell_type": "code",
      "execution_count": null,
      "metadata": {
        "colab": {
          "background_save": true
        },
        "id": "7Z8hjcFgvfA4"
      },
      "outputs": [],
      "source": [
        "len(mag_TP_list),len(mag_FN_list)"
      ],
      "id": "7Z8hjcFgvfA4"
    },
    {
      "cell_type": "code",
      "execution_count": null,
      "metadata": {
        "colab": {
          "background_save": true
        },
        "id": "xsmmXOVtxJvX"
      },
      "outputs": [],
      "source": [
        "len(common(mag_TP_list,TP_AR5_index)),len(common(mag_TP_list,FN_AR5_index)),len(common(mag_FN_list,TP_AR5_index)),len(common(mag_FN_list,FN_AR5_index))"
      ],
      "id": "xsmmXOVtxJvX"
    },
    {
      "cell_type": "code",
      "execution_count": null,
      "metadata": {
        "colab": {
          "background_save": true
        },
        "id": "VG38wNcC1LkI"
      },
      "outputs": [],
      "source": [
        "tptp=new_AR5_dataset[common(mag_TP_list,TP_AR5_index)].squeeze()\n",
        "tpfn=new_AR5_dataset[common(mag_TP_list,FN_AR5_index)].squeeze()\n",
        "fntp=new_AR5_dataset[common(mag_FN_list,TP_AR5_index)].squeeze()\n",
        "fnfn=new_AR5_dataset[common(mag_FN_list,FN_AR5_index)].squeeze()"
      ],
      "id": "VG38wNcC1LkI"
    },
    {
      "cell_type": "code",
      "execution_count": null,
      "metadata": {
        "colab": {
          "background_save": true
        },
        "id": "L4pAp0Qh6rhg"
      },
      "outputs": [],
      "source": [
        "tptpi=mag_ar_dataset[common(mag_TP_list,TP_AR5_index)]\n",
        "tpfni=mag_ar_dataset[common(mag_TP_list,FN_AR5_index)]\n",
        "fntpi=mag_ar_dataset[common(mag_FN_list,TP_AR5_index)]\n",
        "fnfni=mag_ar_dataset[common(mag_FN_list,FN_AR5_index)]"
      ],
      "id": "L4pAp0Qh6rhg"
    },
    {
      "cell_type": "code",
      "execution_count": null,
      "metadata": {
        "colab": {
          "background_save": true
        },
        "id": "Yp3zpJ3U7PcC"
      },
      "outputs": [],
      "source": [
        "print(fnfni)"
      ],
      "id": "Yp3zpJ3U7PcC"
    },
    {
      "cell_type": "code",
      "execution_count": null,
      "metadata": {
        "colab": {
          "background_save": true
        },
        "id": "-XQtvaKTMV_W"
      },
      "outputs": [],
      "source": [
        "plotMean(tptp,'tptp_mean')"
      ],
      "id": "-XQtvaKTMV_W"
    },
    {
      "cell_type": "code",
      "execution_count": null,
      "metadata": {
        "colab": {
          "background_save": true
        },
        "id": "EDXQcOJ6NGzi"
      },
      "outputs": [],
      "source": [
        "plotMean(tpfn,'tpfn_mean')"
      ],
      "id": "EDXQcOJ6NGzi"
    },
    {
      "cell_type": "code",
      "execution_count": null,
      "metadata": {
        "colab": {
          "background_save": true
        },
        "id": "y-9aFZg3NHP5"
      },
      "outputs": [],
      "source": [
        "plotMean(fntp,'fntp_mean')"
      ],
      "id": "y-9aFZg3NHP5"
    },
    {
      "cell_type": "code",
      "execution_count": null,
      "metadata": {
        "colab": {
          "background_save": true
        },
        "id": "ddx-6yTtNHnY"
      },
      "outputs": [],
      "source": [
        "plotMean(fnfn,'fnfn_mean')"
      ],
      "id": "ddx-6yTtNHnY"
    },
    {
      "cell_type": "code",
      "execution_count": null,
      "metadata": {
        "colab": {
          "background_save": true
        },
        "id": "rcKE8q-S7XKQ"
      },
      "outputs": [],
      "source": [
        "print(common(mag_TP_list,TP_AR5_index))\n",
        "print(common(mag_TP_list,FN_AR5_index))\n",
        "print(common(mag_FN_list,TP_AR5_index))\n",
        "print(common(mag_FN_list,FN_AR5_index))"
      ],
      "id": "rcKE8q-S7XKQ"
    },
    {
      "cell_type": "code",
      "execution_count": null,
      "metadata": {
        "colab": {
          "background_save": true
        },
        "id": "oG4E_hY5lcv5"
      },
      "outputs": [],
      "source": [
        "revsnr=np.array([6,8,10,12,15])\n",
        "tps=np.array([72,71,65,80,81])\n",
        "\n",
        "plt.plot(revsnr, tps)\n",
        "plt.show\n"
      ],
      "id": "oG4E_hY5lcv5"
    }
  ],
  "metadata": {
    "accelerator": "GPU",
    "colab": {
      "collapsed_sections": [],
      "provenance": [],
      "toc_visible": true,
      "include_colab_link": true
    },
    "gpuClass": "standard",
    "kernelspec": {
      "display_name": "Python 3",
      "language": "python",
      "name": "python3"
    },
    "language_info": {
      "codemirror_mode": {
        "name": "ipython",
        "version": 3
      },
      "file_extension": ".py",
      "mimetype": "text/x-python",
      "name": "python",
      "nbconvert_exporter": "python",
      "pygments_lexer": "ipython3",
      "version": "3.8.8"
    }
  },
  "nbformat": 4,
  "nbformat_minor": 5
}